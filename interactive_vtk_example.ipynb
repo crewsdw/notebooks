{
 "cells": [
  {
   "cell_type": "code",
   "execution_count": 1,
   "id": "570dabc2",
   "metadata": {},
   "outputs": [],
   "source": [
    "import numpy as np\n",
    "import pyvista as pv"
   ]
  },
  {
   "cell_type": "code",
   "execution_count": 8,
   "id": "5bdc67b8",
   "metadata": {},
   "outputs": [],
   "source": [
    "# Make grid, 1d intervals\n",
    "x = np.linspace(-2, 2, num=100)\n",
    "y = np.linspace(-2, 2, num=100)\n",
    "z = np.linspace(-2, 2, num=100)\n",
    "\n",
    "\n",
    "# 3d grids as repeated outer product of vectors\n",
    "def grid3d(arr0, arr1, arr2):\n",
    "    return np.tensordot(arr0, np.tensordot(arr1, arr2, axes=0), axes=0)\n",
    "\n",
    "\n",
    "# 3 grids\n",
    "x3 = grid3d(x, np.ones_like(y), np.ones_like(z))\n",
    "y3 = grid3d(np.ones_like(x), y, np.ones_like(z))\n",
    "z3 = grid3d(np.ones_like(x), np.ones_like(y), z)\n",
    "\n",
    "# make structured grid object\n",
    "grid = pv.StructuredGrid(x3, y3, z3)\n",
    "\n",
    "# make scalar data\n",
    "# f = np.exp(-0.5 * x3**2.0) * np.exp(-0.25 * y3**2.0) * np.exp(-0.25 * z3 ** 2.0)\n",
    "f = np.sin(np.pi * x3) * np.sin(np.pi * y3) * np.sin(np.pi * z3)\n",
    "\n",
    "# set grid data as flattened scalar data (grid data is always flat)\n",
    "grid['name_of_data'] = f.transpose().flatten() # transpose for some reason"
   ]
  },
  {
   "cell_type": "code",
   "execution_count": 15,
   "id": "849b8c0b",
   "metadata": {
    "scrolled": false
   },
   "outputs": [
    {
     "data": {
      "application/vnd.jupyter.widget-view+json": {
       "model_id": "ec9701ea95db4d61985eefca307bc88a",
       "version_major": 2,
       "version_minor": 0
      },
      "text/plain": [
       "Viewer(geometries=[{'vtkClass': 'vtkPolyData', 'points': {'vtkClass': 'vtkPoints', 'name': '_points', 'numberO…"
      ]
     },
     "metadata": {},
     "output_type": "display_data"
    },
    {
     "data": {
      "application/vnd.jupyter.widget-view+json": {
       "model_id": "ec9701ea95db4d61985eefca307bc88a",
       "version_major": 2,
       "version_minor": 0
      },
      "text/plain": [
       "Viewer(geometries=[{'vtkClass': 'vtkPolyData', 'points': {'vtkClass': 'vtkPoints', 'name': '_points', 'numberO…"
      ]
     },
     "metadata": {},
     "output_type": "display_data"
    }
   ],
   "source": [
    "# Make some contours, takes array of values to make an isosurface contour at\n",
    "contours = grid.contour(np.linspace(-0.9, 0.9, num=6))\n",
    "\n",
    "### FOR SCRIPTS:\n",
    "# pyvista plotter object for scripts\n",
    "# p = pv.Plotter() \n",
    "# add mesh \"actor\" for scripts which can be used for making .mp4s\n",
    "# actor = p.add_mesh(contours, opacity=0.5, cmap='cool',  show_scalar_bar=False)\n",
    "# p.show_grid() # This shows the background grid\n",
    "# p.show() # shows plotter\n",
    "\n",
    "### FOR NOTEBOOKS:\n",
    "# interactive plotter for notebooks\n",
    "p = pv.PlotterITK()\n",
    "# add mesh to the interactive plotter \n",
    "p.add_mesh(contours)\n",
    "p.show()"
   ]
  },
  {
   "cell_type": "code",
   "execution_count": null,
   "id": "de72b6dd",
   "metadata": {},
   "outputs": [],
   "source": []
  }
 ],
 "metadata": {
  "kernelspec": {
   "display_name": "Python 3",
   "language": "python",
   "name": "python3"
  },
  "language_info": {
   "codemirror_mode": {
    "name": "ipython",
    "version": 3
   },
   "file_extension": ".py",
   "mimetype": "text/x-python",
   "name": "python",
   "nbconvert_exporter": "python",
   "pygments_lexer": "ipython3",
   "version": "3.8.5"
  }
 },
 "nbformat": 4,
 "nbformat_minor": 5
}
