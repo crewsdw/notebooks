{
 "cells": [
  {
   "cell_type": "code",
   "execution_count": 1,
   "id": "1780eba2",
   "metadata": {},
   "outputs": [],
   "source": [
    "import numpy as np\n",
    "import matplotlib.pyplot as plt\n",
    "\n",
    "%matplotlib inline"
   ]
  },
  {
   "cell_type": "code",
   "execution_count": 2,
   "id": "b7c72f72",
   "metadata": {},
   "outputs": [],
   "source": [
    "nodes = [-1, -0.8717401485096066153375, -0.5917001814331423021445,\n",
    "-0.2092992179024788687687, 0.2092992179024788687687,\n",
    "0.5917001814331423021445, 0.8717401485096066153375, 1]"
   ]
  },
  {
   "cell_type": "code",
   "execution_count": 23,
   "id": "7a7f3403",
   "metadata": {},
   "outputs": [
    {
     "data": {
      "image/png": "[encoded data removed]",
      "text/plain": [
       "<Figure size 864x864 with 1 Axes>"
      ]
     },
     "metadata": {
      "needs_background": "light"
     },
     "output_type": "display_data"
    }
   ],
   "source": [
    "# Build array\n",
    "phi = 1.618\n",
    "arr_x = phi * np.array(nodes)\n",
    "arr_y = np.array(nodes)\n",
    "arr = (np.tensordot(arr_x, np.ones_like(arr_y), axes=0) + \n",
    "       1j*np.tensordot(np.ones_like(arr_x), arr_y, axes=0))\n",
    "\n",
    "plt.close('all')\n",
    "plt.figure(figsize=(12,12))\n",
    "plt.scatter(np.real(arr.flatten()), np.imag(arr.flatten()), s=200, c='m')\n",
    "plt.axis('off')\n",
    "plt.axis('equal')\n",
    "plt.savefig('2d_nodes_8o.png', bbox_inches='tight', pad_inches=0)\n",
    "plt.show()"
   ]
  },
  {
   "cell_type": "code",
   "execution_count": null,
   "id": "d6618b9e",
   "metadata": {},
   "outputs": [],
   "source": []
  }
 ],
 "metadata": {
  "kernelspec": {
   "display_name": "Python 3",
   "language": "python",
   "name": "python3"
  },
  "language_info": {
   "codemirror_mode": {
    "name": "ipython",
    "version": 3
   },
   "file_extension": ".py",
   "mimetype": "text/x-python",
   "name": "python",
   "nbconvert_exporter": "python",
   "pygments_lexer": "ipython3",
   "version": "3.8.5"
  }
 },
 "nbformat": 4,
 "nbformat_minor": 5
}
