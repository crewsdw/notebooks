{
 "cells": [
  {
   "cell_type": "code",
   "execution_count": 1,
   "id": "2cd56e20",
   "metadata": {},
   "outputs": [],
   "source": [
    "import numpy as np\n",
    "import numpy.polynomial.legendre as leg\n",
    "import matplotlib.pyplot as plt\n",
    "import scipy.special as sp\n",
    "%matplotlib widget\n",
    "\n",
    "# Obtain gauss-legendre quad points and eigenvalues\n",
    "degree = 10\n",
    "nodes, weights = leg.leggauss(degree)\n",
    "evs = np.arange(degree) + 0.5\n",
    "higher_degree = int(np.ceil(0.5 * (3.0 * degree - 1)))\n",
    "\n",
    "higher_nodes, higher_weights = leg.leggauss(higher_degree)"
   ]
  },
  {
   "cell_type": "code",
   "execution_count": 2,
   "id": "9cf1b348",
   "metadata": {},
   "outputs": [],
   "source": [
    "# Build original basis Vandermonde matrix\n",
    "van = np.array([[leg.legval(nodes[i], (*np.zeros(j), 1))\n",
    "                 for j in range(degree)]\n",
    "                for i in range(degree)])\n",
    "\n",
    "inv_van = np.array([[weights[j] * evs[i] * leg.legval(nodes[j], (*np.zeros(i), 1))\n",
    "                     for j in range(degree)]\n",
    "                    for i in range(degree)])"
   ]
  },
  {
   "cell_type": "code",
   "execution_count": 17,
   "id": "e7000294",
   "metadata": {},
   "outputs": [],
   "source": [
    "# Function to test: elliptic cosine and its square\n",
    "k = 0.99 # elliptic modulus\n",
    "m = k ** 2.0 # elliptic parameter\n",
    "quarter_period = sp.ellipk(m)\n",
    "\n",
    "# Build grid: parameters\n",
    "elements = 6\n",
    "low, high = -quarter_period, quarter_period  # -np.pi, np.pi\n",
    "length = high - low\n",
    "dx = length / elements\n",
    "J = dx / 2.0\n",
    "\n",
    "# Build grid: construction\n",
    "def build_grid(order):\n",
    "    n_o, w_o = leg.leggauss(order)\n",
    "    nodes_iso = (np.array(n_o) + 1) / 2\n",
    "    # element left boundaries (including ghost elements)\n",
    "    xl = np.linspace(low, high-dx, num=elements)\n",
    "    # construct coordinates\n",
    "    grid_o = np.zeros((elements, order))\n",
    "    for i in range(elements):\n",
    "        grid_o[i, :] = xl[i] + dx * np.array(nodes_iso)\n",
    "    return grid_o\n",
    "\n",
    "# Build grids\n",
    "grid, higher_grid = build_grid(degree), build_grid(higher_degree)\n",
    "cutoff = 20\n",
    "fundamental = 2.0 * np.pi / length\n",
    "wavenumbers = fundamental * np.arange(1-cutoff, cutoff)\n",
    "\n",
    "# plt.figure()\n",
    "# plt.plot(grid.flatten(), np.sin(grid).flatten(), 'o')\n",
    "# plt.plot(higher_grid.flatten(), np.sin(higher_grid).flatten(), 'o')\n",
    "# plt.grid(True), plt.tight_layout()"
   ]
  },
  {
   "cell_type": "code",
   "execution_count": 18,
   "id": "875ef664",
   "metadata": {},
   "outputs": [
    {
     "name": "stdout",
     "output_type": "stream",
     "text": [
      "(39, 6, 10)\n"
     ]
    }
   ],
   "source": [
    "# Build quad matrix for Fourier integral of an interpolant on the quad grid\n",
    "single_quad = np.multiply(weights[None, None, :], np.exp(-1j * np.tensordot(wavenumbers, grid, axes=0))) * J / length\n",
    "print(single_quad.shape)"
   ]
  },
  {
   "cell_type": "code",
   "execution_count": 19,
   "id": "399440ac",
   "metadata": {},
   "outputs": [
    {
     "name": "stdout",
     "output_type": "stream",
     "text": [
      "(39, 6, 10, 10)\n"
     ]
    }
   ],
   "source": [
    "# Build quad matrix for Fourier integral of a product of interpolants on the quad grid\n",
    "inner_kernel = np.array([[[higher_weights[s] * \n",
    "                           leg.legval(higher_nodes[s], (*np.zeros(p), 1)) *\n",
    "                           leg.legval(higher_nodes[s], (*np.zeros(q), 1))\n",
    "                           for s in range(higher_degree)]\n",
    "                          for p in range(degree)]\n",
    "                         for q in range(degree)])\n",
    "modes_at_higher_degree = np.exp(-1j * np.tensordot(higher_grid, wavenumbers, axes=0))\n",
    "double_quad_inner = np.transpose(np.tensordot(inner_kernel, modes_at_higher_degree, axes=([2], [1])), (2, 0, 1, 3))\n",
    "# Do products with inverse vandermonde matrices\n",
    "double_quad = np.tensordot(inv_van,\n",
    "                           np.tensordot(inv_van,\n",
    "                                        double_quad_inner,\n",
    "                                        axes=([0], [1])),\n",
    "                           axes=([0], [2]))\n",
    "double_quad = np.transpose(double_quad, (3, 2, 0, 1)) * J / length\n",
    "print(double_quad.shape)"
   ]
  },
  {
   "cell_type": "code",
   "execution_count": 20,
   "id": "b16dd9be",
   "metadata": {},
   "outputs": [
    {
     "name": "stdout",
     "output_type": "stream",
     "text": [
      "0.2923211863254005\n"
     ]
    },
    {
     "data": {
      "application/vnd.jupyter.widget-view+json": {
       "model_id": "faa6fdc5d329437ab78bd50fc2ef0901",
       "version_major": 2,
       "version_minor": 0
      },
      "text/plain": [
       "Canvas(toolbar=Toolbar(toolitems=[('Home', 'Reset original view', 'home', 'home'), ('Back', 'Back to previous …"
      ]
     },
     "metadata": {},
     "output_type": "display_data"
    },
    {
     "data": {
      "application/vnd.jupyter.widget-view+json": {
       "model_id": "28d4ce44df544cafa4ca0fab67567533",
       "version_major": 2,
       "version_minor": 0
      },
      "text/plain": [
       "Canvas(toolbar=Toolbar(toolitems=[('Home', 'Reset original view', 'home', 'home'), ('Back', 'Back to previous …"
      ]
     },
     "metadata": {},
     "output_type": "display_data"
    },
    {
     "data": {
      "text/plain": [
       "(<matplotlib.legend.Legend at 0x23d5e6ade80>, None)"
      ]
     },
     "execution_count": 20,
     "metadata": {},
     "output_type": "execute_result"
    }
   ],
   "source": [
    "# Test function: sin^2(x)\n",
    "f = sp.ellipj(grid.flatten(), m)[1].reshape(grid.shape)\n",
    "f_sq = sp.ellipj(grid.flatten(), m)[1].reshape(grid.shape) ** 2.0\n",
    "\n",
    "f_mult = np.einsum('mj,mk->mjk', f, f)\n",
    "\n",
    "def cn_sq_spectrum(n):\n",
    "    if n == 0:\n",
    "        return 1.0 + (sp.ellipe(m) / sp.ellipk(m) - 1.0) / m\n",
    "    # if (n+1) % 2 == 0:\n",
    "    #     return 0\n",
    "    else:\n",
    "        K = sp.ellipk(m)\n",
    "        Kp = sp.ellipk(1-m)\n",
    "        return np.pi**2.0 / (2.0 * m * K ** 2.0) * n / np.sinh(n * np.pi * Kp/K)\n",
    "\n",
    "spectrum_f = np.tensordot(single_quad, f_sq, axes=([1, 2], [0, 1]))\n",
    "spectrum_f_double = np.tensordot(double_quad, f_mult, axes=([1, 2, 3], [0, 1, 2]))\n",
    "\n",
    "# print(cn_sq_spectrum(-1))\n",
    "print(cn_sq_spectrum(0))\n",
    "\n",
    "waves = wavenumbers / fundamental\n",
    "\n",
    "true_spectrum = np.array([cn_sq_spectrum(waves[i]) for i in range(waves.shape[0])])\n",
    "\n",
    "plt.close('all')\n",
    "fig, ax = plt.subplots(1, 2)\n",
    "ax[0].plot(grid.flatten(), f_sq.flatten(), 'o--'), ax[0].grid(True)\n",
    "ax[1].semilogy(waves, np.real(spectrum_f), 'o', label='Single-quad')  # , ax[1].plot(wavenumbers, np.imag(spectrum_f), 'o')\n",
    "ax[1].semilogy(waves, np.real(spectrum_f_double), 'o', label='Double-quad')  # , ax[1].plot(wavenumbers, np.imag(spectrum_f_double), 'o')\n",
    "ax[1].semilogy(waves, true_spectrum, 'o', label='True')\n",
    "ax[1].legend(loc='best'), ax[1].grid(True)\n",
    "\n",
    "error_single = np.divide(np.absolute(np.real(spectrum_f) - true_spectrum), tru\n",
    "error_double = np.absolute(np.real(spectrum_f_double) - true_spectrum)\n",
    "\n",
    "plt.figure()\n",
    "plt.semilogy(waves, error_single, 'o', label='single error')\n",
    "plt.semilogy(waves, error_double, 'o', label='double error')\n",
    "plt.legend(loc='best'), plt.grid(True)"
   ]
  },
  {
   "cell_type": "code",
   "execution_count": null,
   "id": "b8b12099",
   "metadata": {},
   "outputs": [],
   "source": []
  },
  {
   "cell_type": "code",
   "execution_count": null,
   "id": "eefa7aea",
   "metadata": {},
   "outputs": [],
   "source": []
  }
 ],
 "metadata": {
  "kernelspec": {
   "display_name": "Python 3",
   "language": "python",
   "name": "python3"
  },
  "language_info": {
   "codemirror_mode": {
    "name": "ipython",
    "version": 3
   },
   "file_extension": ".py",
   "mimetype": "text/x-python",
   "name": "python",
   "nbconvert_exporter": "python",
   "pygments_lexer": "ipython3",
   "version": "3.8.8"
  }
 },
 "nbformat": 4,
 "nbformat_minor": 5
}
