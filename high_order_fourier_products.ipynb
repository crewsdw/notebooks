{
 "cells": [
  {
   "cell_type": "code",
   "execution_count": 1,
   "id": "2cd56e20",
   "metadata": {},
   "outputs": [],
   "source": [
    "import numpy as np\n",
    "import numpy.polynomial.legendre as leg\n",
    "import matplotlib.pyplot as plt\n",
    "import scipy.special as sp\n",
    "%matplotlib widget\n",
    "\n",
    "plt.close('all')\n",
    "\n",
    "# Obtain gauss-legendre quad points and eigenvalues\n",
    "def analyze_quadrature(degree):\n",
    "    print('\\n Analysis for quad of degree' + str(degree))\n",
    "    nodes, weights = leg.leggauss(degree)\n",
    "    evs = np.arange(degree) + 0.5\n",
    "    higher_degree = int(np.ceil(0.5 * (3.0 * degree - 1)))\n",
    "\n",
    "    higher_nodes, higher_weights = leg.leggauss(higher_degree)\n",
    "\n",
    "    # Build original basis Vandermonde matrix\n",
    "    van = np.array([[leg.legval(nodes[i], (*np.zeros(j), 1))\n",
    "                     for j in range(degree)]\n",
    "                    for i in range(degree)])\n",
    "\n",
    "    inv_van = np.array([[weights[j] * evs[i] * leg.legval(nodes[j], (*np.zeros(i), 1))\n",
    "                         for j in range(degree)]\n",
    "                        for i in range(degree)])\n",
    "\n",
    "    # Function to test: elliptic cosine and its square\n",
    "    k = 0.99 # elliptic modulus\n",
    "    m = k ** 2.0 # elliptic parameter\n",
    "    quarter_period = sp.ellipk(m)\n",
    "\n",
    "    # Build grid: parameters\n",
    "    elements = 10\n",
    "    low, high = -quarter_period, quarter_period  # -np.pi, np.pi\n",
    "    length = high - low\n",
    "    dx = length / elements\n",
    "    \n",
    "    J = dx / 2.0\n",
    "\n",
    "    # Build grid: construction\n",
    "    def build_grid(order):\n",
    "        n_o, w_o = leg.leggauss(order)\n",
    "        nodes_iso = (np.array(n_o) + 1) / 2\n",
    "        # element left boundaries (including ghost elements)\n",
    "        xl = np.linspace(low, high-dx, num=elements)\n",
    "        # construct coordinates\n",
    "        grid_o = np.zeros((elements, order))\n",
    "        for i in range(elements):\n",
    "            grid_o[i, :] = xl[i] + dx * np.array(nodes_iso)\n",
    "        return grid_o\n",
    "\n",
    "    # Build grids\n",
    "    grid, higher_grid = build_grid(degree), build_grid(higher_degree)\n",
    "    cutoff = 20\n",
    "    fundamental = 2.0 * np.pi / length\n",
    "    wavenumbers = fundamental * np.arange(1-cutoff, cutoff)\n",
    "\n",
    "    ### SINGLE QUAD\n",
    "    # Build quad matrix for Fourier integral of an interpolant on the quad grid\n",
    "    single_quad = np.multiply(weights[None, None, :], np.exp(-1j * np.tensordot(wavenumbers, grid, axes=0))) * J / length\n",
    "    print(single_quad.shape)\n",
    "\n",
    "    ### DOUBLE QUAD\n",
    "    # Build quad matrix for Fourier integral of a product of interpolants on the quad grid\n",
    "    inner_kernel = np.array([[[higher_weights[s] * \n",
    "                               leg.legval(higher_nodes[s], (*np.zeros(p), 1)) *\n",
    "                               leg.legval(higher_nodes[s], (*np.zeros(q), 1))\n",
    "                               for s in range(higher_degree)]\n",
    "                              for p in range(degree)]\n",
    "                             for q in range(degree)])\n",
    "    modes_at_higher_degree = np.exp(-1j * np.tensordot(higher_grid, wavenumbers, axes=0))\n",
    "    double_quad_inner = np.transpose(np.tensordot(inner_kernel, modes_at_higher_degree, axes=([2], [1])), (2, 0, 1, 3))\n",
    "    # Do products with inverse vandermonde matrices\n",
    "    double_quad = np.tensordot(inv_van,\n",
    "                               np.tensordot(inv_van,\n",
    "                                            double_quad_inner,\n",
    "                                            axes=([0], [1])),\n",
    "                               axes=([0], [2]))\n",
    "    double_quad = np.transpose(double_quad, (3, 2, 0, 1)) * J / length\n",
    "    print(double_quad.shape)\n",
    "\n",
    "    ### TEST QUADS ON CN^2(x)\n",
    "    # Test function: sin^2(x)\n",
    "    f = sp.ellipj(grid.flatten(), m)[1].reshape(grid.shape)\n",
    "    f_sq = sp.ellipj(grid.flatten(), m)[1].reshape(grid.shape) ** 2.0\n",
    "\n",
    "    f_mult = np.einsum('mj,mk->mjk', f, f)\n",
    "\n",
    "    def cn_sq_spectrum(n):\n",
    "        if n == 0:\n",
    "            return 1.0 + (sp.ellipe(m) / sp.ellipk(m) - 1.0) / m\n",
    "        # if (n+1) % 2 == 0:\n",
    "        #     return 0\n",
    "        else:\n",
    "            K = sp.ellipk(m)\n",
    "            Kp = sp.ellipk(1-m)\n",
    "            return np.pi**2.0 / (2.0 * m * K ** 2.0) * n / np.sinh(n * np.pi * Kp/K)\n",
    "\n",
    "    spectrum_f = np.tensordot(single_quad, f_sq, axes=([1, 2], [0, 1]))\n",
    "    spectrum_f_double = np.tensordot(double_quad, f_mult, axes=([1, 2, 3], [0, 1, 2]))\n",
    "    \n",
    "\n",
    "    waves = wavenumbers / fundamental\n",
    "\n",
    "    true_spectrum = np.array([cn_sq_spectrum(waves[i]) for i in range(waves.shape[0])])\n",
    "\n",
    "    fig, ax = plt.subplots(1, 2)\n",
    "    ax[0].plot(grid.flatten(), f_sq.flatten(), 'o--'), ax[0].grid(True)\n",
    "    ax[1].semilogy(waves, np.absolute(np.real(spectrum_f)), 'o', label='Single-quad')  # , ax[1].plot(wavenumbers, np.imag(spectrum_f), 'o')\n",
    "    ax[1].semilogy(waves, np.absolute(np.real(spectrum_f_double)), 'o', label='Double-quad')  # , ax[1].plot(wavenumbers, np.imag(spectrum_f_double), 'o')\n",
    "    ax[1].semilogy(waves, true_spectrum, 'o', label='True')\n",
    "    ax[1].legend(loc='best'), ax[1].grid(True)\n",
    "\n",
    "    error_single = np.absolute(np.real(spectrum_f) - true_spectrum)\n",
    "    error_double = np.absolute(np.real(spectrum_f_double) - true_spectrum)\n",
    "\n",
    "    middle_index = int((2*cutoff ) / 2)\n",
    "    print(error_single[middle_index])\n",
    "    print(error_double[middle_index])\n",
    "\n",
    "    plt.figure()\n",
    "    plt.semilogy(waves, error_single, 'o', label='single error')\n",
    "    plt.semilogy(waves, error_double, 'o', label='double error')\n",
    "    plt.ylabel(r'$|c - \\widetilde{c}|$')\n",
    "    plt.legend(loc='best'), plt.grid(True)"
   ]
  },
  {
   "cell_type": "markdown",
   "id": "3f415231",
   "metadata": {},
   "source": [
    "# Analysis of quadratures of various degrees:\n",
    "### Note that order 1 results are identical in both respects (usual DFT)"
   ]
  },
  {
   "cell_type": "code",
   "execution_count": 2,
   "id": "9cf1b348",
   "metadata": {},
   "outputs": [
    {
     "name": "stdout",
     "output_type": "stream",
     "text": [
      "\n",
      " Analysis for quad of degree1\n",
      "(39, 10, 1)\n",
      "(39, 10, 1, 1)\n"
     ]
    },
    {
     "data": {
      "application/vnd.jupyter.widget-view+json": {
       "model_id": "89b5c2336b564dd7924d590ff0f68da8",
       "version_major": 2,
       "version_minor": 0
      },
      "text/plain": [
       "Canvas(toolbar=Toolbar(toolitems=[('Home', 'Reset original view', 'home', 'home'), ('Back', 'Back to previous …"
      ]
     },
     "metadata": {},
     "output_type": "display_data"
    },
    {
     "name": "stdout",
     "output_type": "stream",
     "text": [
      "1.4352936900274837e-05\n",
      "1.4352936900274837e-05\n"
     ]
    },
    {
     "data": {
      "application/vnd.jupyter.widget-view+json": {
       "model_id": "79e145344bbb4bf3b8f9e7b1492c8035",
       "version_major": 2,
       "version_minor": 0
      },
      "text/plain": [
       "Canvas(toolbar=Toolbar(toolitems=[('Home', 'Reset original view', 'home', 'home'), ('Back', 'Back to previous …"
      ]
     },
     "metadata": {},
     "output_type": "display_data"
    }
   ],
   "source": [
    "analyze_quadrature(1)"
   ]
  },
  {
   "cell_type": "code",
   "execution_count": 3,
   "id": "e7000294",
   "metadata": {},
   "outputs": [
    {
     "name": "stdout",
     "output_type": "stream",
     "text": [
      "\n",
      " Analysis for quad of degree2\n",
      "(39, 10, 2)\n",
      "(39, 10, 2, 2)\n"
     ]
    },
    {
     "data": {
      "application/vnd.jupyter.widget-view+json": {
       "model_id": "9cfb428ef1134c7a82d5da5589988170",
       "version_major": 2,
       "version_minor": 0
      },
      "text/plain": [
       "Canvas(toolbar=Toolbar(toolitems=[('Home', 'Reset original view', 'home', 'home'), ('Back', 'Back to previous …"
      ]
     },
     "metadata": {},
     "output_type": "display_data"
    },
    {
     "name": "stdout",
     "output_type": "stream",
     "text": [
      "3.4535749336706e-06\n",
      "3.740896384399339e-05\n"
     ]
    },
    {
     "data": {
      "application/vnd.jupyter.widget-view+json": {
       "model_id": "78a7517306ab4b70a2ed864b81cde869",
       "version_major": 2,
       "version_minor": 0
      },
      "text/plain": [
       "Canvas(toolbar=Toolbar(toolitems=[('Home', 'Reset original view', 'home', 'home'), ('Back', 'Back to previous …"
      ]
     },
     "metadata": {},
     "output_type": "display_data"
    }
   ],
   "source": [
    "analyze_quadrature(2)"
   ]
  },
  {
   "cell_type": "code",
   "execution_count": 4,
   "id": "875ef664",
   "metadata": {},
   "outputs": [
    {
     "name": "stdout",
     "output_type": "stream",
     "text": [
      "\n",
      " Analysis for quad of degree3\n",
      "(39, 10, 3)\n",
      "(39, 10, 3, 3)\n"
     ]
    },
    {
     "data": {
      "application/vnd.jupyter.widget-view+json": {
       "model_id": "d142b4835ac04e3b969c989af03f2aca",
       "version_major": 2,
       "version_minor": 0
      },
      "text/plain": [
       "Canvas(toolbar=Toolbar(toolitems=[('Home', 'Reset original view', 'home', 'home'), ('Back', 'Back to previous …"
      ]
     },
     "metadata": {},
     "output_type": "display_data"
    },
    {
     "name": "stdout",
     "output_type": "stream",
     "text": [
      "3.2227786958549665e-07\n",
      "8.234915544746979e-07\n"
     ]
    },
    {
     "data": {
      "application/vnd.jupyter.widget-view+json": {
       "model_id": "ccd84a45c0914ae18434d3e49e9e3065",
       "version_major": 2,
       "version_minor": 0
      },
      "text/plain": [
       "Canvas(toolbar=Toolbar(toolitems=[('Home', 'Reset original view', 'home', 'home'), ('Back', 'Back to previous …"
      ]
     },
     "metadata": {},
     "output_type": "display_data"
    }
   ],
   "source": [
    "analyze_quadrature(3)"
   ]
  },
  {
   "cell_type": "code",
   "execution_count": 5,
   "id": "6a3f7d42",
   "metadata": {},
   "outputs": [
    {
     "name": "stdout",
     "output_type": "stream",
     "text": [
      "\n",
      " Analysis for quad of degree4\n",
      "(39, 10, 4)\n",
      "(39, 10, 4, 4)\n"
     ]
    },
    {
     "data": {
      "application/vnd.jupyter.widget-view+json": {
       "model_id": "0db8139bfa8448c58c5762010fe734b4",
       "version_major": 2,
       "version_minor": 0
      },
      "text/plain": [
       "Canvas(toolbar=Toolbar(toolitems=[('Home', 'Reset original view', 'home', 'home'), ('Back', 'Back to previous …"
      ]
     },
     "metadata": {},
     "output_type": "display_data"
    },
    {
     "name": "stdout",
     "output_type": "stream",
     "text": [
      "1.5325134911092775e-08\n",
      "9.538201228842524e-09\n"
     ]
    },
    {
     "data": {
      "application/vnd.jupyter.widget-view+json": {
       "model_id": "051b513debcd401f940f2003d4f8c93f",
       "version_major": 2,
       "version_minor": 0
      },
      "text/plain": [
       "Canvas(toolbar=Toolbar(toolitems=[('Home', 'Reset original view', 'home', 'home'), ('Back', 'Back to previous …"
      ]
     },
     "metadata": {},
     "output_type": "display_data"
    }
   ],
   "source": [
    "analyze_quadrature(4)"
   ]
  },
  {
   "cell_type": "code",
   "execution_count": 6,
   "id": "a18c4a3d",
   "metadata": {},
   "outputs": [
    {
     "name": "stdout",
     "output_type": "stream",
     "text": [
      "\n",
      " Analysis for quad of degree5\n",
      "(39, 10, 5)\n",
      "(39, 10, 5, 5)\n"
     ]
    },
    {
     "data": {
      "application/vnd.jupyter.widget-view+json": {
       "model_id": "4c6c54ac6c204f65b56cc11fb2090a11",
       "version_major": 2,
       "version_minor": 0
      },
      "text/plain": [
       "Canvas(toolbar=Toolbar(toolitems=[('Home', 'Reset original view', 'home', 'home'), ('Back', 'Back to previous …"
      ]
     },
     "metadata": {},
     "output_type": "display_data"
    },
    {
     "name": "stdout",
     "output_type": "stream",
     "text": [
      "4.4192619008676104e-10\n",
      "4.759613814186991e-10\n"
     ]
    },
    {
     "data": {
      "application/vnd.jupyter.widget-view+json": {
       "model_id": "977650e200f345ff869db22f89731499",
       "version_major": 2,
       "version_minor": 0
      },
      "text/plain": [
       "Canvas(toolbar=Toolbar(toolitems=[('Home', 'Reset original view', 'home', 'home'), ('Back', 'Back to previous …"
      ]
     },
     "metadata": {},
     "output_type": "display_data"
    }
   ],
   "source": [
    "analyze_quadrature(5)"
   ]
  },
  {
   "cell_type": "code",
   "execution_count": 7,
   "id": "e0dabafd",
   "metadata": {},
   "outputs": [
    {
     "name": "stdout",
     "output_type": "stream",
     "text": [
      "\n",
      " Analysis for quad of degree6\n",
      "(39, 10, 6)\n",
      "(39, 10, 6, 6)\n"
     ]
    },
    {
     "data": {
      "application/vnd.jupyter.widget-view+json": {
       "model_id": "e020b7e875d84a7c9d0b7633b03183cd",
       "version_major": 2,
       "version_minor": 0
      },
      "text/plain": [
       "Canvas(toolbar=Toolbar(toolitems=[('Home', 'Reset original view', 'home', 'home'), ('Back', 'Back to previous …"
      ]
     },
     "metadata": {},
     "output_type": "display_data"
    },
    {
     "name": "stdout",
     "output_type": "stream",
     "text": [
      "8.552963892682897e-12\n",
      "7.586126171688079e-12\n"
     ]
    },
    {
     "data": {
      "application/vnd.jupyter.widget-view+json": {
       "model_id": "50cffdc427514927a190b8280b422274",
       "version_major": 2,
       "version_minor": 0
      },
      "text/plain": [
       "Canvas(toolbar=Toolbar(toolitems=[('Home', 'Reset original view', 'home', 'home'), ('Back', 'Back to previous …"
      ]
     },
     "metadata": {},
     "output_type": "display_data"
    }
   ],
   "source": [
    "analyze_quadrature(6)"
   ]
  },
  {
   "cell_type": "code",
   "execution_count": 8,
   "id": "6aa39360",
   "metadata": {},
   "outputs": [
    {
     "name": "stdout",
     "output_type": "stream",
     "text": [
      "\n",
      " Analysis for quad of degree7\n",
      "(39, 10, 7)\n",
      "(39, 10, 7, 7)\n"
     ]
    },
    {
     "data": {
      "application/vnd.jupyter.widget-view+json": {
       "model_id": "aecc9fb5309349cea3cb2e5a20a024e9",
       "version_major": 2,
       "version_minor": 0
      },
      "text/plain": [
       "Canvas(toolbar=Toolbar(toolitems=[('Home', 'Reset original view', 'home', 'home'), ('Back', 'Back to previous …"
      ]
     },
     "metadata": {},
     "output_type": "display_data"
    },
    {
     "name": "stdout",
     "output_type": "stream",
     "text": [
      "1.1840528557627295e-13\n",
      "1.1715628467356964e-13\n"
     ]
    },
    {
     "data": {
      "application/vnd.jupyter.widget-view+json": {
       "model_id": "e900d2fb212f4b2eaa553d0505f03b4b",
       "version_major": 2,
       "version_minor": 0
      },
      "text/plain": [
       "Canvas(toolbar=Toolbar(toolitems=[('Home', 'Reset original view', 'home', 'home'), ('Back', 'Back to previous …"
      ]
     },
     "metadata": {},
     "output_type": "display_data"
    }
   ],
   "source": [
    "analyze_quadrature(7)"
   ]
  },
  {
   "cell_type": "code",
   "execution_count": 9,
   "id": "02c4ed6d",
   "metadata": {},
   "outputs": [
    {
     "name": "stdout",
     "output_type": "stream",
     "text": [
      "\n",
      " Analysis for quad of degree8\n",
      "(39, 10, 8)\n",
      "(39, 10, 8, 8)\n"
     ]
    },
    {
     "data": {
      "application/vnd.jupyter.widget-view+json": {
       "model_id": "e43fd77d3552428da267baa322f74b1b",
       "version_major": 2,
       "version_minor": 0
      },
      "text/plain": [
       "Canvas(toolbar=Toolbar(toolitems=[('Home', 'Reset original view', 'home', 'home'), ('Back', 'Back to previous …"
      ]
     },
     "metadata": {},
     "output_type": "display_data"
    },
    {
     "name": "stdout",
     "output_type": "stream",
     "text": [
      "1.1102230246251565e-15\n",
      "1.1657341758564144e-15\n"
     ]
    },
    {
     "data": {
      "application/vnd.jupyter.widget-view+json": {
       "model_id": "9adff02f1cd74d878c67dd1f04daa12f",
       "version_major": 2,
       "version_minor": 0
      },
      "text/plain": [
       "Canvas(toolbar=Toolbar(toolitems=[('Home', 'Reset original view', 'home', 'home'), ('Back', 'Back to previous …"
      ]
     },
     "metadata": {},
     "output_type": "display_data"
    }
   ],
   "source": [
    "analyze_quadrature(8)"
   ]
  },
  {
   "cell_type": "code",
   "execution_count": 10,
   "id": "bdc562b5",
   "metadata": {},
   "outputs": [
    {
     "name": "stdout",
     "output_type": "stream",
     "text": [
      "\n",
      " Analysis for quad of degree9\n",
      "(39, 10, 9)\n",
      "(39, 10, 9, 9)\n"
     ]
    },
    {
     "data": {
      "application/vnd.jupyter.widget-view+json": {
       "model_id": "c2d02f91013b440fb9cc0d3b613ef7e1",
       "version_major": 2,
       "version_minor": 0
      },
      "text/plain": [
       "Canvas(toolbar=Toolbar(toolitems=[('Home', 'Reset original view', 'home', 'home'), ('Back', 'Back to previous …"
      ]
     },
     "metadata": {},
     "output_type": "display_data"
    },
    {
     "name": "stdout",
     "output_type": "stream",
     "text": [
      "0.0\n",
      "1.6653345369377348e-16\n"
     ]
    },
    {
     "data": {
      "application/vnd.jupyter.widget-view+json": {
       "model_id": "34e37b006a7c4698bfba4f874919099f",
       "version_major": 2,
       "version_minor": 0
      },
      "text/plain": [
       "Canvas(toolbar=Toolbar(toolitems=[('Home', 'Reset original view', 'home', 'home'), ('Back', 'Back to previous …"
      ]
     },
     "metadata": {},
     "output_type": "display_data"
    }
   ],
   "source": [
    "analyze_quadrature(9)"
   ]
  },
  {
   "cell_type": "code",
   "execution_count": 11,
   "id": "09a0cc54",
   "metadata": {},
   "outputs": [
    {
     "name": "stdout",
     "output_type": "stream",
     "text": [
      "\n",
      " Analysis for quad of degree10\n",
      "(39, 10, 10)\n",
      "(39, 10, 10, 10)\n"
     ]
    },
    {
     "data": {
      "application/vnd.jupyter.widget-view+json": {
       "model_id": "dc830b3c89e941be882b14ce5f783177",
       "version_major": 2,
       "version_minor": 0
      },
      "text/plain": [
       "Canvas(toolbar=Toolbar(toolitems=[('Home', 'Reset original view', 'home', 'home'), ('Back', 'Back to previous …"
      ]
     },
     "metadata": {},
     "output_type": "display_data"
    },
    {
     "name": "stdout",
     "output_type": "stream",
     "text": [
      "2.7755575615628914e-17\n",
      "1.3877787807814457e-16\n"
     ]
    },
    {
     "data": {
      "application/vnd.jupyter.widget-view+json": {
       "model_id": "f6f9b99b77f84504ae12d3637d645c36",
       "version_major": 2,
       "version_minor": 0
      },
      "text/plain": [
       "Canvas(toolbar=Toolbar(toolitems=[('Home', 'Reset original view', 'home', 'home'), ('Back', 'Back to previous …"
      ]
     },
     "metadata": {},
     "output_type": "display_data"
    }
   ],
   "source": [
    "analyze_quadrature(10)"
   ]
  },
  {
   "cell_type": "code",
   "execution_count": 13,
   "id": "45f78687",
   "metadata": {},
   "outputs": [
    {
     "name": "stdout",
     "output_type": "stream",
     "text": [
      "\n",
      " Analysis for quad of degree12\n",
      "(39, 10, 12)\n",
      "(39, 10, 12, 12)\n"
     ]
    },
    {
     "data": {
      "application/vnd.jupyter.widget-view+json": {
       "model_id": "8cfce6093cba4daeb58e175a6caf5d3d",
       "version_major": 2,
       "version_minor": 0
      },
      "text/plain": [
       "Canvas(toolbar=Toolbar(toolitems=[('Home', 'Reset original view', 'home', 'home'), ('Back', 'Back to previous …"
      ]
     },
     "metadata": {},
     "output_type": "display_data"
    },
    {
     "name": "stdout",
     "output_type": "stream",
     "text": [
      "1.1102230246251565e-16\n",
      "5.551115123125783e-17\n"
     ]
    },
    {
     "data": {
      "application/vnd.jupyter.widget-view+json": {
       "model_id": "417cac1d22114b408536f4016b44bc20",
       "version_major": 2,
       "version_minor": 0
      },
      "text/plain": [
       "Canvas(toolbar=Toolbar(toolitems=[('Home', 'Reset original view', 'home', 'home'), ('Back', 'Back to previous …"
      ]
     },
     "metadata": {},
     "output_type": "display_data"
    }
   ],
   "source": [
    "analyze_quadrature(12)"
   ]
  },
  {
   "cell_type": "markdown",
   "id": "fd4505a7",
   "metadata": {},
   "source": [
    "### A quadrature of the Fourier integral to order (dx ^ n) in the product of interpolants improves the aliasing error"
   ]
  },
  {
   "cell_type": "code",
   "execution_count": null,
   "id": "89c61c07",
   "metadata": {},
   "outputs": [],
   "source": []
  }
 ],
 "metadata": {
  "kernelspec": {
   "display_name": "Python 3",
   "language": "python",
   "name": "python3"
  },
  "language_info": {
   "codemirror_mode": {
    "name": "ipython",
    "version": 3
   },
   "file_extension": ".py",
   "mimetype": "text/x-python",
   "name": "python",
   "nbconvert_exporter": "python",
   "pygments_lexer": "ipython3",
   "version": "3.8.8"
  }
 },
 "nbformat": 4,
 "nbformat_minor": 5
}
