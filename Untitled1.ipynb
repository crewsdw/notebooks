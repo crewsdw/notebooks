{
 "cells": [
  {
   "cell_type": "code",
   "execution_count": 1,
   "id": "3c624074",
   "metadata": {},
   "outputs": [],
   "source": [
    "import numpy as np\n",
    "import scipy.special as sp\n",
    "import matplotlib.pyplot as plt\n",
    "from matplotlib import rcParams\n",
    "import pyvista as pv\n",
    "from matplotlib import ticker, cm\n",
    "\n",
    "plt.style.use('dark_background')\n",
    "\n",
    "rcParams.update({'font.size': 18})\n",
    "plt.rcParams['figure.figsize'] = [6, 6]\n",
    "\n",
    "%matplotlib inline"
   ]
  },
  {
   "cell_type": "code",
   "execution_count": 8,
   "id": "ed3f64c0",
   "metadata": {},
   "outputs": [
    {
     "name": "stdout",
     "output_type": "stream",
     "text": [
      "(50, 50, 50)\n"
     ]
    },
    {
     "data": {
      "application/vnd.jupyter.widget-view+json": {
       "model_id": "42aeb3fcd0e04fc3a4124e7d68114b30",
       "version_major": 2,
       "version_minor": 0
      },
      "text/plain": [
       "Viewer(geometries=[{'vtkClass': 'vtkPolyData', 'points': {'vtkClass': 'vtkPoints', 'name': '_points', 'numberO…"
      ]
     },
     "metadata": {},
     "output_type": "display_data"
    },
    {
     "data": {
      "application/vnd.jupyter.widget-view+json": {
       "model_id": "42aeb3fcd0e04fc3a4124e7d68114b30",
       "version_major": 2,
       "version_minor": 0
      },
      "text/plain": [
       "Viewer(geometries=[{'vtkClass': 'vtkPolyData', 'points': {'vtkClass': 'vtkPoints', 'name': '_points', 'numberO…"
      ]
     },
     "metadata": {},
     "output_type": "display_data"
    }
   ],
   "source": [
    "size = 50\n",
    "vt_para = 1\n",
    "vt_perp = 1\n",
    "ring_j = 0.1\n",
    "\n",
    "\n",
    "ones = np.ones(size)\n",
    "\n",
    "vz = np.linspace(-4.5, 4.5, num=size)\n",
    "vr = np.linspace(0, 4.5, num=size)\n",
    "phi = np.linspace(0, 2.0 * np.pi, num=size)\n",
    "\n",
    "# Tensor-product arrays\n",
    "def make_3d_arr(a, b, c):\n",
    "    return np.tensordot(a, np.tensordot(b, c,\n",
    "                                       axes=0),\n",
    "                        axes=0)\n",
    "\n",
    "# Distributions\n",
    "def gaussian_1d(v, vt):\n",
    "    factor = 1.0 / (np.sqrt(2.0 * np.pi) * vt)\n",
    "    arg = 0.5 * (v/vt) ** 2.0\n",
    "    return factor * np.exp(-1.0 * arg)\n",
    "\n",
    "def gaussian_2d(v, vt, ring_j):\n",
    "    factor = 1.0 / (2.0 * np.pi * vt ** 2.0) / sp.gamma(ring_j + 1.0)\n",
    "    arg = 0.5 * (v/vt) ** 2.0\n",
    "    return factor * (arg ** ring_j) * np.exp(-1.0 * arg)\n",
    "\n",
    "f_para = gaussian_1d(vz, vt_para)\n",
    "f_perp = gaussian_2d(vr, vt_perp, ring_j)\n",
    "f = np.tensordot(f_para, np.tensordot(f_perp, ones, axes=0), axes=0)\n",
    "print(f.shape)\n",
    "\n",
    "# Convert from cylindrical to cartesian\n",
    "vx = np.tensordot(vr, np.cos(phi), axes=0)\n",
    "vy = np.tensordot(vr, np.sin(phi), axes=0)\n",
    "\n",
    "cb = np.linspace(0.5 * np.amax(f), 0.9 * np.amax(f), num=5)\n",
    "cb2 = np.linspace(0.5 * np.amin(f), 0.5 * np.amax(f), num=10)\n",
    "\n",
    "# Examine various slices\n",
    "def arr3d(x, y, z):\n",
    "    return np.tensordot(x, np.tensordot(y, z,\n",
    "                                        axes=0),\n",
    "                        axes=0)\n",
    "def arr3d_2(x, yz):\n",
    "    return np.tensordot(x, yz, axes=0)\n",
    "\n",
    "vz3 = arr3d_2(vz, np.ones_like(vx))\n",
    "vx3 = arr3d_2(ones, vx)\n",
    "vy3 = arr3d_2(ones, vy)\n",
    "\n",
    "# Grid, contours, and plotter\n",
    "grid = pv.StructuredGrid(vz3, vy3, vx3)\n",
    "grid['scalars'] = f.transpose().flatten()\n",
    "\n",
    "contours = grid.contour(cb)\n",
    "p = pv.PlotterITK()\n",
    "p.add_mesh(contours, opacity=0.5)\n",
    "p.show()"
   ]
  },
  {
   "cell_type": "code",
   "execution_count": 9,
   "id": "83412f94",
   "metadata": {},
   "outputs": [
    {
     "name": "stdout",
     "output_type": "stream",
     "text": [
      "(50, 50, 50)\n"
     ]
    },
    {
     "data": {
      "application/vnd.jupyter.widget-view+json": {
       "model_id": "d819f3fc2dec4903a1afe57722e94a83",
       "version_major": 2,
       "version_minor": 0
      },
      "text/plain": [
       "Viewer(geometries=[{'vtkClass': 'vtkPolyData', 'points': {'vtkClass': 'vtkPoints', 'name': '_points', 'numberO…"
      ]
     },
     "metadata": {},
     "output_type": "display_data"
    },
    {
     "data": {
      "application/vnd.jupyter.widget-view+json": {
       "model_id": "d819f3fc2dec4903a1afe57722e94a83",
       "version_major": 2,
       "version_minor": 0
      },
      "text/plain": [
       "Viewer(geometries=[{'vtkClass': 'vtkPolyData', 'points': {'vtkClass': 'vtkPoints', 'name': '_points', 'numberO…"
      ]
     },
     "metadata": {},
     "output_type": "display_data"
    }
   ],
   "source": [
    "size = 50\n",
    "vt_para = 1\n",
    "vt_perp = 1\n",
    "ring_j = 0.9\n",
    "\n",
    "\n",
    "ones = np.ones(size)\n",
    "\n",
    "vz = np.linspace(-4.5, 4.5, num=size)\n",
    "vr = np.linspace(0, 4.5, num=size)\n",
    "phi = np.linspace(0, 2.0 * np.pi, num=size)\n",
    "\n",
    "# Tensor-product arrays\n",
    "def make_3d_arr(a, b, c):\n",
    "    return np.tensordot(a, np.tensordot(b, c,\n",
    "                                       axes=0),\n",
    "                        axes=0)\n",
    "\n",
    "# Distributions\n",
    "def gaussian_1d(v, vt):\n",
    "    factor = 1.0 / (np.sqrt(2.0 * np.pi) * vt)\n",
    "    arg = 0.5 * (v/vt) ** 2.0\n",
    "    return factor * np.exp(-1.0 * arg)\n",
    "\n",
    "def gaussian_2d(v, vt, ring_j):\n",
    "    factor = 1.0 / (2.0 * np.pi * vt ** 2.0) / sp.gamma(ring_j + 1.0)\n",
    "    arg = 0.5 * (v/vt) ** 2.0\n",
    "    return factor * (arg ** ring_j) * np.exp(-1.0 * arg)\n",
    "\n",
    "f_para = gaussian_1d(vz, vt_para)\n",
    "f_perp = gaussian_2d(vr, vt_perp, ring_j)\n",
    "f = np.tensordot(f_para, np.tensordot(f_perp, ones, axes=0), axes=0)\n",
    "print(f.shape)\n",
    "\n",
    "# Convert from cylindrical to cartesian\n",
    "vx = np.tensordot(vr, np.cos(phi), axes=0)\n",
    "vy = np.tensordot(vr, np.sin(phi), axes=0)\n",
    "\n",
    "cb = np.linspace(0.5 * np.amax(f), 0.9 * np.amax(f), num=5)\n",
    "cb2 = np.linspace(0.5 * np.amin(f), 0.5 * np.amax(f), num=10)\n",
    "\n",
    "# Examine various slices\n",
    "def arr3d(x, y, z):\n",
    "    return np.tensordot(x, np.tensordot(y, z,\n",
    "                                        axes=0),\n",
    "                        axes=0)\n",
    "def arr3d_2(x, yz):\n",
    "    return np.tensordot(x, yz, axes=0)\n",
    "\n",
    "vz3 = arr3d_2(vz, np.ones_like(vx))\n",
    "vx3 = arr3d_2(ones, vx)\n",
    "vy3 = arr3d_2(ones, vy)\n",
    "\n",
    "# Grid, contours, and plotter\n",
    "grid = pv.StructuredGrid(vz3, vy3, vx3)\n",
    "grid['scalars'] = f.transpose().flatten()\n",
    "\n",
    "contours = grid.contour(cb)\n",
    "p = pv.PlotterITK()\n",
    "p.add_mesh(contours, opacity=0.5)\n",
    "p.show()"
   ]
  },
  {
   "cell_type": "code",
   "execution_count": null,
   "id": "a2ae2c01",
   "metadata": {},
   "outputs": [],
   "source": []
  }
 ],
 "metadata": {
  "kernelspec": {
   "display_name": "Python 3 (ipykernel)",
   "language": "python",
   "name": "python3"
  },
  "language_info": {
   "codemirror_mode": {
    "name": "ipython",
    "version": 3
   },
   "file_extension": ".py",
   "mimetype": "text/x-python",
   "name": "python",
   "nbconvert_exporter": "python",
   "pygments_lexer": "ipython3",
   "version": "3.8.5"
  }
 },
 "nbformat": 4,
 "nbformat_minor": 5
}
