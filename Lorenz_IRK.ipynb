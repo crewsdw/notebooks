{
 "cells": [
  {
   "cell_type": "code",
   "execution_count": 7,
   "id": "ae8906bd",
   "metadata": {},
   "outputs": [],
   "source": [
    "import numpy as np\n",
    "import numpy.linalg as linalg\n",
    "import matplotlib.pyplot as plt\n",
    "from matplotlib import rcParams\n",
    "\n",
    "plt.style.use('dark_background')\n",
    "\n",
    "rcParams.update({'font.size': 18})\n",
    "plt.rcParams['figure.figsize'] = [12, 12]\n",
    "\n",
    "%matplotlib widget\n",
    "\n",
    "import tensorflow as tf"
   ]
  },
  {
   "cell_type": "code",
   "execution_count": 8,
   "id": "c690e2cd",
   "metadata": {},
   "outputs": [],
   "source": [
    "def lorenz_dynamics(q):\n",
    "    x, y, z = q[0], q[1], q[2]\n",
    "    \n",
    "    sigma = 10\n",
    "    beta = 8/3\n",
    "    rho = 28\n",
    "    \n",
    "    f_rhs = np.array([sigma * (y-x),\n",
    "                      x * (rho - z) - y,\n",
    "                      x * y - beta * z])\n",
    "    \n",
    "    jacobian = np.array([[-sigma, sigma, 0],\n",
    "                         [rho, 1.0, -x],\n",
    "                         [y, x, -beta]])\n",
    "    \n",
    "    return f_rhs, jacobian"
   ]
  },
  {
   "cell_type": "code",
   "execution_count": 10,
   "id": "e5c6af97",
   "metadata": {},
   "outputs": [
    {
     "data": {
      "application/vnd.jupyter.widget-view+json": {
       "model_id": "460952c2cb214f24bad36fea0e3b1dfb",
       "version_major": 2,
       "version_minor": 0
      },
      "text/plain": [
       "Canvas(toolbar=Toolbar(toolitems=[('Home', 'Reset original view', 'home', 'home'), ('Back', 'Back to previous …"
      ]
     },
     "metadata": {},
     "output_type": "display_data"
    },
    {
     "data": {
      "text/plain": [
       "<mpl_toolkits.mplot3d.art3d.Path3DCollection at 0x201dd247790>"
      ]
     },
     "execution_count": 10,
     "metadata": {},
     "output_type": "execute_result"
    }
   ],
   "source": [
    "def irk_update(q, dt, threshold, max_iterations):\n",
    "    # Use an explicit Euler step as initial guess\n",
    "    rhs, jacobian = lorenz_dynamics(q)\n",
    "    # position guesses\n",
    "    q1 = q + 0.5 * (1.0 - 1.0/np.sqrt(3.0)) * dt * rhs\n",
    "    q2 = q + 0.5 * (1.0 + 1.0/np.sqrt(3.0)) * dt * rhs\n",
    "    \n",
    "    # IRK matrix\n",
    "    a11, a12 = 0.25, 0.25 - np.sqrt(3.0)/6.0\n",
    "    a21, a22 = 0.25 + np.sqrt(3.0)/6.0, 0.25\n",
    "    \n",
    "    # Iterate of stages\n",
    "    k1, j1 = lorenz_dynamics(q1)\n",
    "    k2, j2 = lorenz_dynamics(q2)\n",
    "    # print(k1.shape)\n",
    "    \n",
    "    def err(k1, k2):\n",
    "        # print(k1.shape)\n",
    "        rhs1, _ = lorenz_dynamics(q + dt * (a11 * k1 + a12 * k2))\n",
    "        rhs2, _ = lorenz_dynamics(q + dt * (a21 * k1 + a22 * k2))\n",
    "        error1 = k1 - rhs1\n",
    "        error2 = k2 - rhs2\n",
    "        return np.array([error1, error2])\n",
    "    \n",
    "    def err_norm(err):\n",
    "        return np.sqrt(np.square(err).sum())\n",
    "    \n",
    "    itr = 0\n",
    "    error = err_norm(err(k1, k2))\n",
    "    while error > threshold and itr < max_iterations:\n",
    "        # Iterate of stages\n",
    "        _, j1 = lorenz_dynamics(q + dt * (a11 * k1 + a12 * k2))\n",
    "        _, j2 = lorenz_dynamics(q + dt * (a21 * k1 + a22 * k2))\n",
    "        \n",
    "        # Jacobian of IRK method, I - dt * A * J with J jacobian of original system\n",
    "        jac = np.array([[np.eye(q.shape[0]) - dt * a11 * j1, -dt * a12 * j1],\n",
    "                         [-dt * a21 * j2, np.eye(q.shape[0]) - dt * a22 * j2]])\n",
    "        \n",
    "        # Newton iteration\n",
    "        # Reshape to a single square system\n",
    "        err_m = err(k1, k2)\n",
    "        jac = np.transpose(jac, axes=[0, 2, 1, 3])\n",
    "        jac_r = jac.reshape(2 * q.shape[0], 2 * q.shape[0])\n",
    "        err_r = err_m.reshape(2 * q.shape[0])\n",
    "        # k_next = np.array([k1, k2]) - linalg.solve(jac, err(k1, k2)[None, :, :])\n",
    "        # solve = linalg.solve(jac, err(k1, k2)[None, :, None, :])\n",
    "        solution = linalg.solve(jac_r, err_r).reshape(2, q.shape[0])\n",
    "        \n",
    "        # Get iterate k's\n",
    "        k1 = k1 - solution[0, :]\n",
    "        k2 = k2 - solution[1, :]\n",
    "        \n",
    "        # Error\n",
    "        error = err_norm(err(k1, k2))\n",
    "        \n",
    "        # print('\\nNewton iteration ' + str(itr) + ' with err ' + str(error))\n",
    "        itr += 1\n",
    "        \n",
    "        if itr >= max_iterations:\n",
    "            return k1, k2\n",
    "        \n",
    "    return k1, k2\n",
    "    \n",
    "# Starting point\n",
    "q = np.array([10.54, 4.112, 35.82])\n",
    "dt = 0.01\n",
    "\n",
    "nt = 10\n",
    "\n",
    "qs = np.zeros((3, nt))\n",
    "qs[:, 0] = q\n",
    "\n",
    "for i in range(1,nt):\n",
    "    k1, k2 = irk_update(q, dt, threshold=1.0e-7, max_iterations=100)\n",
    "    q = q + 0.5 * dt * (k1 + k2)\n",
    "    qs[:, i] = q\n",
    "\n",
    "fig = plt.figure()\n",
    "ax = fig.add_subplot(projection='3d')\n",
    "ax.scatter(qs[0, :], qs[1, :], qs[2, :])\n",
    "# ax.scatter(q_next[0], q_next[1], q_next[2])"
   ]
  },
  {
   "cell_type": "code",
   "execution_count": null,
   "id": "091c017e",
   "metadata": {},
   "outputs": [],
   "source": []
  }
 ],
 "metadata": {
  "kernelspec": {
   "display_name": "Python 3",
   "language": "python",
   "name": "python3"
  },
  "language_info": {
   "codemirror_mode": {
    "name": "ipython",
    "version": 3
   },
   "file_extension": ".py",
   "mimetype": "text/x-python",
   "name": "python",
   "nbconvert_exporter": "python",
   "pygments_lexer": "ipython3",
   "version": "3.8.5"
  }
 },
 "nbformat": 4,
 "nbformat_minor": 5
}
